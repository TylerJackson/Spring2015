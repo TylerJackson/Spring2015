{
 "cells": [
  {
   "cell_type": "markdown",
   "metadata": {},
   "source": [
    "#In Class Assignment Five Test Installation\n",
    "In the in class assignment you will be asked to fill in python code and R code. Please make sure that this notebook can be run in its entirety before class.\n",
    "\n",
    "________________________________________________________________________________________________________\n",
    "\n",
    "##Running in the 'R' Ecosystem with magics"
   ]
  },
  {
   "cell_type": "code",
   "execution_count": 1,
   "metadata": {
    "collapsed": false
   },
   "outputs": [
    {
     "ename": "ImportError",
     "evalue": "No module named rpy2.robjects.packages",
     "output_type": "error",
     "traceback": [
      "\u001b[0;31m---------------------------------------------------------------------------\u001b[0m",
      "\u001b[0;31mImportError\u001b[0m                               Traceback (most recent call last)",
      "\u001b[0;32m<ipython-input-1-548d95a4704f>\u001b[0m in \u001b[0;36m<module>\u001b[0;34m()\u001b[0m\n\u001b[1;32m      6\u001b[0m \u001b[0;34m\u001b[0m\u001b[0m\n\u001b[1;32m      7\u001b[0m \u001b[0;31m# You will need to have R installed, as well as Rpy2 and the arules library\u001b[0m\u001b[0;34m\u001b[0m\u001b[0;34m\u001b[0m\u001b[0m\n\u001b[0;32m----> 8\u001b[0;31m \u001b[0;32mfrom\u001b[0m \u001b[0mrpy2\u001b[0m\u001b[0;34m.\u001b[0m\u001b[0mrobjects\u001b[0m\u001b[0;34m.\u001b[0m\u001b[0mpackages\u001b[0m \u001b[0;32mimport\u001b[0m \u001b[0mimportr\u001b[0m\u001b[0;34m\u001b[0m\u001b[0m\n\u001b[0m\u001b[1;32m      9\u001b[0m \u001b[0;32mfrom\u001b[0m \u001b[0mrpy2\u001b[0m \u001b[0;32mimport\u001b[0m \u001b[0mrobjects\u001b[0m \u001b[0;32mas\u001b[0m \u001b[0mrobj\u001b[0m\u001b[0;34m\u001b[0m\u001b[0m\n\u001b[1;32m     10\u001b[0m \u001b[0;34m\u001b[0m\u001b[0m\n",
      "\u001b[0;31mImportError\u001b[0m: No module named rpy2.robjects.packages"
     ]
    }
   ],
   "source": [
    "# getting things started\n",
    "import time\n",
    "import matplotlib.pyplot as plt\n",
    "import numpy as np\n",
    "%matplotlib inline\n",
    "\n",
    "# You will need to have R installed, as well as Rpy2 and the arules library\n",
    "from rpy2.robjects.packages import importr\n",
    "from rpy2 import robjects as robj\n",
    "\n",
    "# this way we can write r code by simply writing %R\n",
    "%load_ext rmagic\n",
    "%load_ext rpy2.ipython \n",
    "# this enables the %R extension to iPython (does not work outside of the iPython shell)\n",
    "\n",
    "# these packages will need to be installed\n",
    "# open R and run \n",
    "#     install.package(arules)\n",
    "#     install.package(arulesViz)\n",
    "\n",
    "arules = importr('arules') # same as importing in R with the \"library\" command\n",
    "arules_viz = importr('arulesViz') # visualize the different rules"
   ]
  },
  {
   "cell_type": "code",
   "execution_count": null,
   "metadata": {
    "collapsed": false,
    "scrolled": false
   },
   "outputs": [],
   "source": [
    "%R load(\"titanic2.raw.rdata\")\n",
    "%R rules <- apriori(titanic.raw,parameter = list(minlen=2, supp=0.05, conf=0.8))\n",
    "%R rules.sorted <- sort(rules, by=\"lift\")\n",
    "%R inspect(rules.sorted, n=10)\n",
    "%R plot(rules.sorted, method=\"grouped\")\n",
    "\n",
    "# Make sure that the titanic data is in the same directory\n",
    "print 'It worked!'"
   ]
  },
  {
   "cell_type": "markdown",
   "metadata": {
    "collapsed": true
   },
   "source": [
    "If run properly you should see a graph above showing grouped plots of the rules. That's it. You are done!!"
   ]
  },
  {
   "cell_type": "code",
   "execution_count": null,
   "metadata": {
    "collapsed": true
   },
   "outputs": [],
   "source": []
  }
 ],
 "metadata": {
  "kernelspec": {
   "display_name": "Python 2",
   "language": "python",
   "name": "python2"
  },
  "language_info": {
   "codemirror_mode": {
    "name": "ipython",
    "version": 2
   },
   "file_extension": ".py",
   "mimetype": "text/x-python",
   "name": "python",
   "nbconvert_exporter": "python",
   "pygments_lexer": "ipython2",
   "version": "2.7.9"
  }
 },
 "nbformat": 4,
 "nbformat_minor": 0
}
