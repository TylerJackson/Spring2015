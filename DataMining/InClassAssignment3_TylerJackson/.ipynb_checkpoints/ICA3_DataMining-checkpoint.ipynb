{
 "cells": [
  {
   "cell_type": "markdown",
   "metadata": {},
   "source": [
    "Enter Team Member Names here (double click to edit):\n",
    "\n",
    "- Name 1: Tyler Jackson\n",
    "- Name 2:\n",
    "- Name 3:\n",
    "\n",
    "________\n",
    "\n",
    "#In Class Assignment Three\n",
    "In the following assignment you will be asked to fill in python code and derivations for a number of different problems. Please read all instructions carefully and turn in the rendered notebook (or HTML of the rendered notebook) to blackboard before the end of class.\n",
    "\n",
    "**Distance Students**: please finish this assignment in 2 hours and 30 minutes. Turn in before next class per the instructions on blackboard.\n",
    "\n",
    "________________________________________________________________________________________________________\n",
    "\n",
    "##Downloading the Document Data\n",
    "Please run the following code to read in the \"20 newsgroups\" dataset from sklearn's data loading module."
   ]
  },
  {
   "cell_type": "code",
   "execution_count": 40,
   "metadata": {
    "collapsed": false
   },
   "outputs": [
    {
     "name": "stdout",
     "output_type": "stream",
     "text": [
      "features shape: (11314, 130107)\n",
      "target shape: (11314,)\n",
      "range of target: 0 19\n",
      "Data type is <class 'scipy.sparse.csr.csr_matrix'> 0.121435315436 % of the data is non-zero\n"
     ]
    }
   ],
   "source": [
    "from sklearn.datasets import fetch_20newsgroups_vectorized\n",
    "import numpy as np\n",
    "\n",
    "# this takes about 30 seconds to compute, read the next section while this downloads\n",
    "ds = fetch_20newsgroups_vectorized(subset='train')\n",
    "\n",
    "# this holds the continuous feature data (which is tfidf)\n",
    "print 'features shape:', ds.data.shape # there are ~11000 instances and ~130k features per instance\n",
    "print 'target shape:', ds.target.shape \n",
    "print 'range of target:', np.min(ds.target),np.max(ds.target)\n",
    "print 'Data type is', type(ds.data), float(ds.data.nnz)/(ds.data.shape[0]*ds.data.shape[1])*100, '% of the data is non-zero'"
   ]
  },
  {
   "cell_type": "markdown",
   "metadata": {},
   "source": [
    "##Understanding the Dataset\n",
    "Look at the description for the 20 newsgroups dataset at http://qwone.com/~jason/20Newsgroups/. You have just downloaded the \"vectorized\" version of the dataset, which means all the words inside the articles have gone through a transformation that binned them into 130 thousand features related to the words in them. You can ignore the information on TFIDF-just recognize that it is a means of converting text to a vector of data. \n",
    "\n",
    "**Question Set 1**:\n",
    "- How many instances are in the dataset? \n",
    "- What does each instance represent? \n",
    "- How many classes are in the dataset and what does each class represent?\n",
    "- Would you expect a classifier trained on this data would generalize to documents written in the past week? Why or why not?\n",
    "- Is the data represented as a sparse or dense matrix?"
   ]
  },
  {
   "cell_type": "markdown",
   "metadata": {},
   "source": [
    "___\n",
    "Enter your answer here:\n",
    "\n",
    "1. Instances= 11314 instances \n",
    "2. Each instance represents a word and the documents it appeared in\n",
    "3. 20 classes and each represents a newsgroup\n",
    "4. Maybe if some of the articles were written on the same topics, and had the same or similar authors.  The type of language used an article affects the data, so if standard language has changed, so would the models ability to predict.\n",
    "5. sparse - the data is represented as a sparse matrix, shown from how little of the data is non-zero.\n",
    "\n",
    "\n",
    "___"
   ]
  },
  {
   "cell_type": "markdown",
   "metadata": {},
   "source": [
    "##Measures of Distance\n",
    "In the following block of code, we isolate three instances from the dataset. The instanca `a` is from the group computer graphics, `b` is from from the group recreation autos, and `c` is from group recreation motorcycle. **Exercise for part 2**: Calculate the Euclidean distance, cosine distance, and Jaccard similarity between each pair of instances using the imported function below. Remember that the Jaccard distance is only for binary valued vectors, so convert vectors to binary using a threshold. **Question for part 2**: Which distance seems more appropriate to use for this data? Why?"
   ]
  },
  {
   "cell_type": "code",
   "execution_count": 11,
   "metadata": {
    "collapsed": false
   },
   "outputs": [
    {
     "name": "stdout",
     "output_type": "stream",
     "text": [
      "Instance A is from class comp.graphics\n",
      "Instance B is from class rec.autos\n",
      "Instance C is from class rec.motorcycles\n",
      "\n",
      "\n",
      "Euclidean Distance\n",
      " ab: 1.09851846719 ac: 1.18914054254 bc: 0.917779422666\n",
      "Cosine Distance\n",
      " ab: 0.603371411376 ac: 0.707027614956 bc: 0.421159534335\n",
      "Jaccard Dissimilarity (vectors should be boolean values)\n",
      " ab: 0.90243902439 ac: 0.909090909091 bc: 0.75\n",
      "\n",
      "\n",
      "The most appropriate distance is...\n",
      "The Cosine distance.  Cosine distance it will allow you to compare the angle between instances.\n"
     ]
    }
   ],
   "source": [
    "from scipy.spatial.distance import cosine\n",
    "from scipy.spatial.distance import euclidean\n",
    "from scipy.spatial.distance import jaccard\n",
    "import numpy as np\n",
    "\n",
    "# get first instance (comp)\n",
    "idx = 550\n",
    "a = ds.data[idx].todense()\n",
    "a_class = ds.target_names[ds.target[idx]]\n",
    "print 'Instance A is from class', a_class\n",
    "\n",
    "# get second instance (autos)\n",
    "idx = 4000\n",
    "b = ds.data[idx].todense()\n",
    "b_class = ds.target_names[ds.target[idx]]\n",
    "print 'Instance B is from class', b_class\n",
    "\n",
    "# get third instance (motorcycle)\n",
    "idx = 7000\n",
    "c = ds.data[idx].todense()\n",
    "c_class = ds.target_names[ds.target[idx]]\n",
    "print 'Instance C is from class', c_class\n",
    "euc_dist_ab = euclidean(a,b)\n",
    "euc_dist_ac = euclidean(a,c)\n",
    "euc_dist_bc = euclidean(b,c)\n",
    "\n",
    "cos_dist_ab = cosine(a,b)\n",
    "cos_dist_ac = cosine(a,c)\n",
    "cos_dist_bc = cosine(b,c)\n",
    "\n",
    "a_bool = np.where (a < .1, False, True)\n",
    "b_bool = np.where (b < .1, False, True)\n",
    "c_bool = np.where (c < .1, False, True)\n",
    "\n",
    "jac_dist_ab = jaccard(a_bool,b_bool)\n",
    "jac_dist_ac = jaccard(a_bool,c_bool)\n",
    "jac_dist_bc = jaccard(b_bool,c_bool)\n",
    "\n",
    "\n",
    "# Enter distance comparison below for each pair of vectors:\n",
    "p = 'Placeholder'\n",
    "print '\\n\\nEuclidean Distance\\n ab:', euc_dist_ab, 'ac:', euc_dist_ac, 'bc:',euc_dist_bc\n",
    "print 'Cosine Distance\\n ab:', cos_dist_ab, 'ac:', cos_dist_ac, 'bc:', cos_dist_bc\n",
    "print 'Jaccard Dissimilarity (vectors should be boolean values)\\n ab:', jac_dist_ab, 'ac:', jac_dist_ac, 'bc:', jac_dist_bc\n",
    "\n",
    "print '\\n\\nThe most appropriate distance is...' \n",
    "print \"The Cosine distance.  Cosine distance it will allow you to compare the angle between instances.\""
   ]
  },
  {
   "cell_type": "markdown",
   "metadata": {},
   "source": [
    "___\n",
    "##Using scikit-learn with KNN\n",
    "Now let's use stratified cross validation with a holdout set to train a KNN model in `scikit-learn`. Use the example below to train a KNN classifier. The documentation for KNeighbors is here: http://scikit-learn.org/stable/modules/generated/sklearn.neighbors.KNeighborsClassifier.html  \n",
    "\n",
    "**Exercise for part 3**: Use the code below to test what value of `n_neighbors` works best for the given data. *Note: do NOT change the metric to be anything other than `'euclidean'`. Other distance functions are not optimized for the amount of data we are working with.* **Question for part 3**: What is the accuracy of the best classifier you can create for this data (by changing only the `n_neighbors` parameter)? "
   ]
  },
  {
   "cell_type": "code",
   "execution_count": 16,
   "metadata": {
    "collapsed": false
   },
   "outputs": [
    {
     "name": "stdout",
     "output_type": "stream",
     "text": [
      "Accuracy of classifier with 5 nearest neighbors is: 0.509810853809\n",
      "Accuracy of classifier with 3 nearest neighborsis: 0.54728654764\n",
      "Accuracy of classifier with 7 nearest neighborsis: 0.491780095457\n",
      "3 nearest neighbors is the most accurate\n"
     ]
    }
   ],
   "source": [
    "from sklearn.cross_validation import StratifiedShuffleSplit\n",
    "from sklearn.neighbors import KNeighborsClassifier\n",
    "from sklearn.metrics import accuracy_score\n",
    "\n",
    "cv = StratifiedShuffleSplit(ds.target, n_iter = 1, test_size = 0.5, train_size=0.5)\n",
    "\n",
    "for trainidx, testidx in cv:\n",
    "    # note that these are sparse matrices\n",
    "    X_train = ds.data[trainidx] \n",
    "    X_test = ds.data[testidx] \n",
    "    y_train = ds.target[trainidx]\n",
    "    y_test = ds.target[testidx]\n",
    "\n",
    "clf = KNeighborsClassifier(n_neighbors=5, weights='uniform', metric='euclidean')\n",
    "\n",
    "# fill in your code here\n",
    "clf.fit(X_train,y_train)\n",
    "y_calc = clf.predict(X_test)\n",
    "acc5 = accuracy_score(y_test,y_calc)\n",
    "\n",
    "clf = KNeighborsClassifier(n_neighbors=3, weights='uniform', metric='euclidean')\n",
    "\n",
    "# fill in your code here\n",
    "clf.fit(X_train,y_train)\n",
    "y_calc = clf.predict(X_test)\n",
    "acc3 = accuracy_score(y_test,y_calc)\n",
    "\n",
    "clf = KNeighborsClassifier(n_neighbors=7, weights='uniform', metric='euclidean')\n",
    "\n",
    "# fill in your code here\n",
    "clf.fit(X_train,y_train)\n",
    "y_calc = clf.predict(X_test)\n",
    "acc7 = accuracy_score(y_test,y_calc)\n",
    "\n",
    "print 'Accuracy of classifier with 5 nearest neighbors is:', acc5\n",
    "print 'Accuracy of classifier with 3 nearest neighborsis:', acc3\n",
    "print 'Accuracy of classifier with 7 nearest neighborsis:', acc7\n",
    "print '3 nearest neighbors is the most accurate'"
   ]
  },
  {
   "cell_type": "markdown",
   "metadata": {},
   "source": [
    "**Question for part 3**: With sparse data, does the use of a KDTree representation make sense? Why or Why not?"
   ]
  },
  {
   "cell_type": "markdown",
   "metadata": {},
   "source": [
    "Enter your answer below:\n",
    "\n",
    "No, because the data would fall closer to one axis meaning that a spatial partitioning data structure wouldn't work very well.  Splitting the boxes wouldn't cut the datapoints in half as would be hoped.   \n",
    "___"
   ]
  },
  {
   "cell_type": "markdown",
   "metadata": {
    "collapsed": true
   },
   "source": [
    "_____\n",
    "##KNN extensions - Centroids\n",
    "Now lets look at a very closely related classifier to KNN, called nearest centroid. In this classifier (which is more appropriate for big data scenarios and sparse data), the training step is used to calculate the centroids for each class. These centroids are saved. Unknown attributes, at prediction time, only need to have distances calculated for each saved centroid, drastically decreasing the time required for a prediction. **Exercise for part 4**: Use the template code below to create a nearest centroid classifier. Test which metric has the best performance: Euclidean, Cosine, or Manhattan. In `scikit-learn` you can see the documentation for NearestCentroid here: \n",
    "- http://scikit-learn.org/stable/modules/generated/sklearn.neighbors.NearestCentroid.html#sklearn.neighbors.NearestCentroid\n",
    "\n",
    "and for supported distance metrics here:\n",
    "- http://scikit-learn.org/stable/modules/generated/sklearn.metrics.pairwise.distance_metrics.html#sklearn.metrics.pairwise.distance_metrics"
   ]
  },
  {
   "cell_type": "code",
   "execution_count": 18,
   "metadata": {
    "collapsed": false
   },
   "outputs": [
    {
     "name": "stdout",
     "output_type": "stream",
     "text": [
      "Accuracy of Euclidean:  0.41788934064\n",
      "Accuracy of Cosine:  0.498674208945\n",
      "Accuracy of Manhattan:  0.319604030405\n",
      "The best distance metric is: Cosine with  0.498674208945\n"
     ]
    }
   ],
   "source": [
    "from sklearn.neighbors.nearest_centroid import NearestCentroid\n",
    "\n",
    "# the parameters for the nearest centroid metric to test are:\n",
    "#    l1, l2, and cosine (all are optimized)\n",
    "clf = NearestCentroid(metric='euclidean')\n",
    "\n",
    "# fill in your code here\n",
    "clf.fit(X_train,y_train)\n",
    "y_calc = clf.predict(X_test)\n",
    "acc_euc = accuracy_score(y_test,y_calc)\n",
    "\n",
    "clf = NearestCentroid(metric='cosine')\n",
    "clf.fit(X_train,y_train)\n",
    "y_calc = clf.predict(X_test)\n",
    "acc_cos = accuracy_score(y_test,y_calc)\n",
    "\n",
    "clf = NearestCentroid(metric='manhattan')\n",
    "clf.fit(X_train,y_train)\n",
    "y_calc = clf.predict(X_test)\n",
    "acc_man = accuracy_score(y_test,y_calc)\n",
    "\n",
    "print 'Accuracy of Euclidean: ',acc_euc\n",
    "print 'Accuracy of Cosine: ',acc_cos\n",
    "print 'Accuracy of Manhattan: ',acc_man\n",
    "\n",
    "print 'The best distance metric is: Cosine with ',acc_cos"
   ]
  },
  {
   "cell_type": "markdown",
   "metadata": {},
   "source": [
    "___\n",
    "##Naive Bayes Classification\n",
    "Now let's look at the use of the Naive Bayes classifier. The 20 newsgroups dataset has 20 classes and about 130,000 features. Recall that the Naive Bayes classifer calculates a posterior distribution for each possible class. Each posterior distribution is a multiplication of many conditional distributions. **Question for part 5**: With this many classes and features, how many different conditional probabilities need to be parameterized? How many priors need to be modeled?"
   ]
  },
  {
   "cell_type": "markdown",
   "metadata": {},
   "source": [
    "Enter you answer here:\n",
    "\n",
    "There needs to be a prior for each class at least, so 20 priors. \n",
    "\n",
    "In some of the examples, we calculated a conditional probability for each feature combination and each class, but that is obviously not possible here as we have 130,000.  \n",
    "\n",
    "We could try to estimate the conditional probability using our training data.  If we tried to parameterize every conditional it would be 2^130000*20*2\n",
    "--> 2^130000 gets every possible combination of features, * 20 for 20 classes on, * 20 for 20 classes off"
   ]
  },
  {
   "cell_type": "code",
   "execution_count": 22,
   "metadata": {
    "collapsed": false
   },
   "outputs": [],
   "source": [
    "# Use this space for any calculations you might want to do\n",
    "\n"
   ]
  },
  {
   "cell_type": "markdown",
   "metadata": {},
   "source": [
    "___\n",
    "##Naive Bayes in Scikit-learn\n",
    "Scikit has several implementations of the Naive Bayes classifier: `GaussianNB`, `MultinomialNB`, and `BernoulliNB`. Look at the documentation here: http://scikit-learn.org/stable/modules/naive_bayes.html Take a look at each implementation and then answer this question: **Question for part 6**: If my instances contain continuous attributes, would it be better to use Gaussian Naive Bayes, Multinomial Naive Bayes, or Bernoulli? And Why? What if the data is sparse, does this change your answer? Why or Why not?"
   ]
  },
  {
   "cell_type": "markdown",
   "metadata": {},
   "source": [
    "Enter you answer here:\n",
    "\n",
    "Gaussian Naive Bayes seems like it would be a good choice for continuous variables as we often assume our data fits a Gaussian Distribution.\n",
    "\n",
    "Multinomial seems like it would be better for sparse data, because it learns based on if a feature is not present in the sample.  This might be more likely in a sparse data sample set.  The Gaussian distribution applies less to a sparse dataset because assuming it follows a Gaussian Distribution would lead to errors since a sparse matrix wouldn't have a Gaussian distribution.  \n",
    "\n",
    "___"
   ]
  },
  {
   "cell_type": "markdown",
   "metadata": {},
   "source": [
    "##Naive Bayes Comparison\n",
    "For the final section of this notebook let's compare the performance of Naive Bayes for document classification. Look at the parameters for `MultinomialNB`, and `BernoulliNB` (especially `alpha` and `binarize`). **Exercise for part 7**: Using the example code below, change the parameters for each classifier and see how accurate you can make the classifiers on the test set. **Question for part 7**: Why are these implementations so fast to train? What does the 'alpha' value control in these models (*i.e.*, how does it change the learned models)? "
   ]
  },
  {
   "cell_type": "code",
   "execution_count": 38,
   "metadata": {
    "collapsed": false
   },
   "outputs": [
    {
     "name": "stdout",
     "output_type": "stream",
     "text": [
      "0.879971716457\n",
      "0.855046844617\n",
      "These classifiers are so fast because it treats each distribution as 1-dimensional, removing the curse of\n",
      "dimensionality\n",
      "The alpha values control the smoothing parameter.  This basically refers to how the model adjusts for features\n",
      "that arent present in the training data\n"
     ]
    }
   ],
   "source": [
    "from sklearn.naive_bayes import MultinomialNB\n",
    "from sklearn.naive_bayes import BernoulliNB\n",
    "\n",
    "\n",
    "clf_mnb = MultinomialNB(alpha= .00001)\n",
    "clf_bnb = BernoulliNB(alpha= .00001, binarize= 0.0)\n",
    "\n",
    "# fill in your code here\n",
    "clf_mnb.fit(X_train,y_train)\n",
    "clf_bnb.fit(X_train,y_train)\n",
    "\n",
    "mnb_calc = clf_mnb.predict(X_test)\n",
    "bnb_calc = clf_bnb.predict(X_test)\n",
    "acc_mnb = accuracy_score(y_test,mnb_calc)\n",
    "acc_bnb = accuracy_score(y_test,bnb_calc)\n",
    "print acc_mnb\n",
    "print acc_bnb\n",
    "\n",
    "            \n",
    "print 'These classifiers are so fast because it treats each distribution as 1-dimensional, removing the curse of'\n",
    "print 'dimensionality'\n",
    "print 'The alpha values control the smoothing parameter.  This basically refers to how the model adjusts for features'\n",
    "print 'that arent present in the training data'\n"
   ]
  },
  {
   "cell_type": "markdown",
   "metadata": {
    "collapsed": true
   },
   "source": [
    "________________________________________________________________________________________________________\n",
    "\n",
    "That's all! Please **upload your rendered notebook to blackboard** and please include **team member names** in the notebook submission."
   ]
  },
  {
   "cell_type": "code",
   "execution_count": null,
   "metadata": {
    "collapsed": true
   },
   "outputs": [],
   "source": []
  }
 ],
 "metadata": {
  "kernelspec": {
   "display_name": "Python 2",
   "language": "python",
   "name": "python2"
  },
  "language_info": {
   "codemirror_mode": {
    "name": "ipython",
    "version": 2
   },
   "file_extension": ".py",
   "mimetype": "text/x-python",
   "name": "python",
   "nbconvert_exporter": "python",
   "pygments_lexer": "ipython2",
   "version": "2.7.9"
  }
 },
 "nbformat": 4,
 "nbformat_minor": 0
}
