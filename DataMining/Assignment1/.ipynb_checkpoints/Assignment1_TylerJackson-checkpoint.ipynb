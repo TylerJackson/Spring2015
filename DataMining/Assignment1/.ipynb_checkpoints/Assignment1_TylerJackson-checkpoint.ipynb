{
 "metadata": {
  "name": "",
  "signature": "sha256:c07789dfb10b3b941f06bdfde673ed3aa42d06128738b94c949510125f2efc74"
 },
 "nbformat": 3,
 "nbformat_minor": 0,
 "worksheets": [
  {
   "cells": [
    {
     "cell_type": "heading",
     "level": 1,
     "metadata": {},
     "source": [
      "                                                    Assignment 1\n"
     ]
    },
    {
     "cell_type": "markdown",
     "metadata": {},
     "source": [
      "by Tyler Jackson\n",
      "\n",
      "    For this assignment I examined 1 million records related to poker statistics.  This was especially interesting for me, because I am currently working on a few playing card game applications for iOS, and had already been considering integrating poker odds into the app to help teach beginners."
     ]
    },
    {
     "cell_type": "markdown",
     "metadata": {},
     "source": [
      "    This data set was collected to help one predict poker hands.  Statistics regarding poker can be very helpful for gamblers who want to determine the odds of their hand winning.  For example, if I am playing Texas Hold'Em and the best hand I have is a 3 of a Kind then I want to be able to determine the odds of a better hand being dealt on the Turn or the River.  "
     ]
    },
    {
     "cell_type": "heading",
     "level": 3,
     "metadata": {},
     "source": [
      "Business Understanding"
     ]
    },
    {
     "cell_type": "code",
     "collapsed": false,
     "input": [
      "# load the Poker dataset\n",
      "import pandas as pd\n",
      "import numpy as np\n",
      "\n",
      "df = pd.read_csv('dataset_poker/poker-hand-testing.data') # read in the csv file\n",
      "\n",
      "df.head()"
     ],
     "language": "python",
     "metadata": {},
     "outputs": [
      {
       "output_type": "stream",
       "stream": "stdout",
       "text": [
        "ERROR! Session/line number was not unique in database. History logging moved to new session 10\n"
       ]
      },
      {
       "html": [
        "<div style=\"max-height:1000px;max-width:1500px;overflow:auto;\">\n",
        "<table border=\"1\" class=\"dataframe\">\n",
        "  <thead>\n",
        "    <tr style=\"text-align: right;\">\n",
        "      <th></th>\n",
        "      <th>Suit_C1</th>\n",
        "      <th>Rank_C1</th>\n",
        "      <th>Suit_C2</th>\n",
        "      <th>Rank_C2</th>\n",
        "      <th>Suit_C3</th>\n",
        "      <th>Rank_C3</th>\n",
        "      <th>Suit_C4</th>\n",
        "      <th>Rank_C4</th>\n",
        "      <th>Suit_C5</th>\n",
        "      <th>Rank_C5</th>\n",
        "      <th>Class_Poker_Hand</th>\n",
        "    </tr>\n",
        "  </thead>\n",
        "  <tbody>\n",
        "    <tr>\n",
        "      <th>0</th>\n",
        "      <td> 1</td>\n",
        "      <td>  1</td>\n",
        "      <td> 1</td>\n",
        "      <td> 13</td>\n",
        "      <td> 2</td>\n",
        "      <td>  4</td>\n",
        "      <td> 2</td>\n",
        "      <td>  3</td>\n",
        "      <td> 1</td>\n",
        "      <td> 12</td>\n",
        "      <td> 0</td>\n",
        "    </tr>\n",
        "    <tr>\n",
        "      <th>1</th>\n",
        "      <td> 3</td>\n",
        "      <td> 12</td>\n",
        "      <td> 3</td>\n",
        "      <td>  2</td>\n",
        "      <td> 3</td>\n",
        "      <td> 11</td>\n",
        "      <td> 4</td>\n",
        "      <td>  5</td>\n",
        "      <td> 2</td>\n",
        "      <td>  5</td>\n",
        "      <td> 1</td>\n",
        "    </tr>\n",
        "    <tr>\n",
        "      <th>2</th>\n",
        "      <td> 1</td>\n",
        "      <td>  9</td>\n",
        "      <td> 4</td>\n",
        "      <td>  6</td>\n",
        "      <td> 1</td>\n",
        "      <td>  4</td>\n",
        "      <td> 3</td>\n",
        "      <td>  2</td>\n",
        "      <td> 3</td>\n",
        "      <td>  9</td>\n",
        "      <td> 1</td>\n",
        "    </tr>\n",
        "    <tr>\n",
        "      <th>3</th>\n",
        "      <td> 1</td>\n",
        "      <td>  4</td>\n",
        "      <td> 3</td>\n",
        "      <td> 13</td>\n",
        "      <td> 2</td>\n",
        "      <td> 13</td>\n",
        "      <td> 2</td>\n",
        "      <td>  1</td>\n",
        "      <td> 3</td>\n",
        "      <td>  6</td>\n",
        "      <td> 1</td>\n",
        "    </tr>\n",
        "    <tr>\n",
        "      <th>4</th>\n",
        "      <td> 3</td>\n",
        "      <td> 10</td>\n",
        "      <td> 2</td>\n",
        "      <td>  7</td>\n",
        "      <td> 1</td>\n",
        "      <td>  2</td>\n",
        "      <td> 2</td>\n",
        "      <td> 11</td>\n",
        "      <td> 4</td>\n",
        "      <td>  9</td>\n",
        "      <td> 0</td>\n",
        "    </tr>\n",
        "  </tbody>\n",
        "</table>\n",
        "</div>"
       ],
       "metadata": {},
       "output_type": "pyout",
       "prompt_number": 213,
       "text": [
        "   Suit_C1  Rank_C1  Suit_C2  Rank_C2  Suit_C3  Rank_C3  Suit_C4  Rank_C4  \\\n",
        "0        1        1        1       13        2        4        2        3   \n",
        "1        3       12        3        2        3       11        4        5   \n",
        "2        1        9        4        6        1        4        3        2   \n",
        "3        1        4        3       13        2       13        2        1   \n",
        "4        3       10        2        7        1        2        2       11   \n",
        "\n",
        "   Suit_C5  Rank_C5  Class_Poker_Hand  \n",
        "0        1       12                 0  \n",
        "1        2        5                 1  \n",
        "2        3        9                 1  \n",
        "3        3        6                 1  \n",
        "4        4        9                 0  "
       ]
      }
     ],
     "prompt_number": 213
    },
    {
     "cell_type": "heading",
     "level": 3,
     "metadata": {},
     "source": [
      "Data Understanding"
     ]
    },
    {
     "cell_type": "heading",
     "level": 5,
     "metadata": {},
     "source": [
      "Data Description"
     ]
    },
    {
     "cell_type": "markdown",
     "metadata": {},
     "source": [
      "    The data results from drawing a hand from a 52 card deck.  A hand, or row consists of 5 playing cards, that must be dealt from a full deck in order to maintain consistent odds.  The order the cards are drawn in matters, because the odds of drawing a certain card changes when there are fewer cards in the deck.  Therefore, a hand with the first four cards as Aces is different than a hand with the last four cards Aces.  \n",
      "    There are eleven attributes.  The first ten describe the suit and rank of each card.  For example, attribute one describes the suit of card one, and attribute two describes the rank of card one.  Attribute three describes the suit of card two, and attribute four describes the rank of card two, etc.  The eleventh attribute describes the class of the poker hand.  This value can range from integers 0-9, with 9 being the best hand (Royal Flush), and 0 being the worst hand (High Card).  \n",
      "    The Suit attributes are Nominal and represented from 1-4 with 1 = Hearts, 2 = Spades, 3 = Diamonds, and 4 = Clubs.  The order of these don't matter, as one suit is not ranked higher or lower than another.  The Rank attributes are Ordinal from integer values 1-13.  Ace = 1, Two = 2, etc. with Jack = 11, Queen = 12, and King = 13.  The data is ordinal here because the order of the rank does matter as a card is ranked above the cards with lower rank.  There are 1 million distinct records in the data set out of the possible 311,875,200 different hand combinations."
     ]
    },
    {
     "cell_type": "code",
     "collapsed": false,
     "input": [
      "print df.dtypes\n",
      "print df.info()"
     ],
     "language": "python",
     "metadata": {},
     "outputs": [
      {
       "output_type": "stream",
       "stream": "stdout",
       "text": [
        "Suit_C1             int64\n",
        "Rank_C1             int64\n",
        "Suit_C2             int64\n",
        "Rank_C2             int64\n",
        "Suit_C3             int64\n",
        "Rank_C3             int64\n",
        "Suit_C4             int64\n",
        "Rank_C4             int64\n",
        "Suit_C5             int64\n",
        "Rank_C5             int64\n",
        "Class_Poker_Hand    int64\n",
        "dtype: object\n",
        "<class 'pandas.core.frame.DataFrame'>\n",
        "Int64Index: 1000000 entries, 0 to 999999\n",
        "Data columns (total 11 columns):\n",
        "Suit_C1             1000000 non-null int64\n",
        "Rank_C1             1000000 non-null int64\n",
        "Suit_C2             1000000 non-null int64\n",
        "Rank_C2             1000000 non-null int64\n",
        "Suit_C3             1000000 non-null int64\n",
        "Rank_C3             1000000 non-null int64\n",
        "Suit_C4             1000000 non-null int64\n",
        "Rank_C4             1000000 non-null int64\n",
        "Suit_C5             1000000 non-null int64\n",
        "Rank_C5             1000000 non-null int64\n",
        "Class_Poker_Hand    1000000 non-null int64\n",
        "dtypes: int64(11)\n",
        "memory usage: 91.6 MB\n"
       ]
      },
      {
       "output_type": "stream",
       "stream": "stdout",
       "text": [
        "None\n"
       ]
      }
     ],
     "prompt_number": 214
    },
    {
     "cell_type": "heading",
     "level": 5,
     "metadata": {},
     "source": [
      "Data Verification"
     ]
    },
    {
     "cell_type": "markdown",
     "metadata": {},
     "source": [
      "    There are not any duplicate rows in the data, and there are not any missing attribute values in any of the rows.  There is also not any outliers, because the range of the data doesn't vary more than 13 for rank and 9 for class.  In theory, there could be an outlier if the data was centered around a class of rank 3 with one or two records at rank 9.  However, because we know that those are important and relevant data points we would not rule them as outliers.    \n",
      "    The data seems very good except for a few characteristics.  First, the machine learning repository called the suits ordinal, but I disagree as I discussed above.  Second, the data was set up poorly, because often Aces can be low or high.  I might have dealt with this problem by creating a second record for every case where there was an Ace (one with the Ace High, and one with the Ace Low).  Third, there is no variations within the level of the different classes.  For example, every pair is in the same class, every three of a kind is in the same class, etc., but a pair of Aces is a better hand than a pair of Twos.  Also, a result of every hand in a class being ranked the same it doesn't matter if Ace is High or Low.     "
     ]
    },
    {
     "cell_type": "heading",
     "level": 5,
     "metadata": {},
     "source": [
      "Simple Statistics"
     ]
    },
    {
     "cell_type": "code",
     "collapsed": false,
     "input": [
      "grouped_by = df.groupby(by='Class_Poker_Hand')\n",
      "\n",
      "print grouped_by.Class_Poker_Hand.count()\n",
      "print grouped_by.Class_Poker_Hand.count()/1000000"
     ],
     "language": "python",
     "metadata": {},
     "outputs": [
      {
       "output_type": "stream",
       "stream": "stdout",
       "text": [
        "Class_Poker_Hand\n",
        "0                   501209\n",
        "1                   422498\n",
        "2                    47622\n",
        "3                    21121\n",
        "4                     3885\n",
        "5                     1996\n",
        "6                     1424\n",
        "7                      230\n",
        "8                       12\n",
        "9                        3\n",
        "Name: Class_Poker_Hand, dtype: int64\n",
        "Class_Poker_Hand\n",
        "0                   0.501209\n",
        "1                   0.422498\n",
        "2                   0.047622\n",
        "3                   0.021121\n",
        "4                   0.003885\n",
        "5                   0.001996\n",
        "6                   0.001424\n",
        "7                   0.000230\n",
        "8                   0.000012\n",
        "9                   0.000003\n",
        "Name: Class_Poker_Hand, dtype: float64\n"
       ]
      }
     ],
     "prompt_number": 215
    },
    {
     "cell_type": "markdown",
     "metadata": {},
     "source": [
      "    The first statistic shows the various counts of the poker hands.  As you can see the higher ranked the hand is, the less likely you are to get it.  The second statistic shows the probability of getting each hand out of the total hands in the sample (1000000)."
     ]
    },
    {
     "cell_type": "code",
     "collapsed": false,
     "input": [
      "suits = pd.read_csv('dataset_poker/poker-hand-testing.data')\n",
      "del suits['Rank_C1']\n",
      "del suits['Rank_C2']\n",
      "del suits['Rank_C3']\n",
      "del suits['Rank_C4']\n",
      "del suits['Rank_C5']\n",
      "print \"Modes\"\n",
      "print suits.mode()"
     ],
     "language": "python",
     "metadata": {},
     "outputs": [
      {
       "output_type": "stream",
       "stream": "stdout",
       "text": [
        "Modes\n",
        "   Suit_C1  Suit_C2  Suit_C3  Suit_C4  Suit_C5  Class_Poker_Hand\n",
        "0        3        1        3        3        1                 0"
       ]
      },
      {
       "output_type": "stream",
       "stream": "stdout",
       "text": [
        "\n"
       ]
      }
     ],
     "prompt_number": 216
    },
    {
     "cell_type": "markdown",
     "metadata": {},
     "source": [
      "    The statistic above shows the mode of the various suits.  Because the suits do not have an order, the more interesting statistic for them is how often each suit appears.  Mode shows which suit appeared most for each card.  Interestingly, the suit corresponding to 3 (diamonds) appeared most often for 3 of the five cards.  Since the class of the poker hand is also nominal I included it in the mode statistic.  As expected, the high card hand appeared most frequently.  "
     ]
    },
    {
     "cell_type": "code",
     "collapsed": false,
     "input": [
      "ranks = pd.read_csv('dataset_poker/poker-hand-testing.data')\n",
      "del ranks['Suit_C1']\n",
      "del ranks['Suit_C2']\n",
      "del ranks['Suit_C3']\n",
      "del ranks['Suit_C4']\n",
      "del ranks['Suit_C5']\n",
      "print \"Means\"\n",
      "print ranks.mean()\n",
      "print \"Medians\"\n",
      "print ranks.median()"
     ],
     "language": "python",
     "metadata": {},
     "outputs": [
      {
       "output_type": "stream",
       "stream": "stdout",
       "text": [
        "Means\n",
        "Rank_C1             6.997927\n",
        "Rank_C2             7.006097\n",
        "Rank_C3             6.998873\n",
        "Rank_C4             7.002298\n",
        "Rank_C5             6.989481\n",
        "Class_Poker_Hand    0.616902\n",
        "dtype: float64"
       ]
      },
      {
       "output_type": "stream",
       "stream": "stdout",
       "text": [
        "\n",
        "Medians\n",
        "Rank_C1             7\n",
        "Rank_C2             7\n",
        "Rank_C3             7\n",
        "Rank_C4             7\n",
        "Rank_C5             7\n",
        "Class_Poker_Hand    0\n",
        "dtype: float64"
       ]
      },
      {
       "output_type": "stream",
       "stream": "stdout",
       "text": [
        "\n"
       ]
      }
     ],
     "prompt_number": 217
    },
    {
     "cell_type": "markdown",
     "metadata": {},
     "source": [
      "    The ranks were ordinal, and therefore it made more sense to perform a mean and median statistic on them.  The data seems to be centered around cards of rank 7.  This makes sense as 7 falls in the middle of the ranks.  All the cards have an equal chance of being drawn because they appear in the deck an equal amount of times.  Therefore the ranks should form a normal distribution.  The medians are all 7 as well, which makes sense, because as the data is normally distributed the median and mean should be equal.  The data is not skewed in regards to rank.  I didn't include the range, because it is so small, and not a very interesting statistic.  Lastly, below I included just a general display of statistics of the data set."
     ]
    },
    {
     "cell_type": "code",
     "collapsed": false,
     "input": [
      "df = pd.read_csv('dataset_poker/poker-hand-testing.data')\n",
      "df.describe()\n"
     ],
     "language": "python",
     "metadata": {},
     "outputs": [
      {
       "html": [
        "<div style=\"max-height:1000px;max-width:1500px;overflow:auto;\">\n",
        "<table border=\"1\" class=\"dataframe\">\n",
        "  <thead>\n",
        "    <tr style=\"text-align: right;\">\n",
        "      <th></th>\n",
        "      <th>Suit_C1</th>\n",
        "      <th>Rank_C1</th>\n",
        "      <th>Suit_C2</th>\n",
        "      <th>Rank_C2</th>\n",
        "      <th>Suit_C3</th>\n",
        "      <th>Rank_C3</th>\n",
        "      <th>Suit_C4</th>\n",
        "      <th>Rank_C4</th>\n",
        "      <th>Suit_C5</th>\n",
        "      <th>Rank_C5</th>\n",
        "      <th>Class_Poker_Hand</th>\n",
        "    </tr>\n",
        "  </thead>\n",
        "  <tbody>\n",
        "    <tr>\n",
        "      <th>count</th>\n",
        "      <td> 1000000.000000</td>\n",
        "      <td> 1000000.000000</td>\n",
        "      <td> 1000000.000000</td>\n",
        "      <td> 1000000.000000</td>\n",
        "      <td> 1000000.000000</td>\n",
        "      <td> 1000000.000000</td>\n",
        "      <td> 1000000.000000</td>\n",
        "      <td> 1000000.000000</td>\n",
        "      <td> 1000000.000000</td>\n",
        "      <td> 1000000.000000</td>\n",
        "      <td> 1000000.000000</td>\n",
        "    </tr>\n",
        "    <tr>\n",
        "      <th>mean</th>\n",
        "      <td>       2.500493</td>\n",
        "      <td>       6.997927</td>\n",
        "      <td>       2.499894</td>\n",
        "      <td>       7.006097</td>\n",
        "      <td>       2.500871</td>\n",
        "      <td>       6.998873</td>\n",
        "      <td>       2.500393</td>\n",
        "      <td>       7.002298</td>\n",
        "      <td>       2.499451</td>\n",
        "      <td>       6.989481</td>\n",
        "      <td>       0.616902</td>\n",
        "    </tr>\n",
        "    <tr>\n",
        "      <th>std</th>\n",
        "      <td>       1.117768</td>\n",
        "      <td>       3.743374</td>\n",
        "      <td>       1.118568</td>\n",
        "      <td>       3.743481</td>\n",
        "      <td>       1.118225</td>\n",
        "      <td>       3.741890</td>\n",
        "      <td>       1.117245</td>\n",
        "      <td>       3.741270</td>\n",
        "      <td>       1.118948</td>\n",
        "      <td>       3.739894</td>\n",
        "      <td>       0.773377</td>\n",
        "    </tr>\n",
        "    <tr>\n",
        "      <th>min</th>\n",
        "      <td>       1.000000</td>\n",
        "      <td>       1.000000</td>\n",
        "      <td>       1.000000</td>\n",
        "      <td>       1.000000</td>\n",
        "      <td>       1.000000</td>\n",
        "      <td>       1.000000</td>\n",
        "      <td>       1.000000</td>\n",
        "      <td>       1.000000</td>\n",
        "      <td>       1.000000</td>\n",
        "      <td>       1.000000</td>\n",
        "      <td>       0.000000</td>\n",
        "    </tr>\n",
        "    <tr>\n",
        "      <th>25%</th>\n",
        "      <td>       2.000000</td>\n",
        "      <td>       4.000000</td>\n",
        "      <td>       1.000000</td>\n",
        "      <td>       4.000000</td>\n",
        "      <td>       1.000000</td>\n",
        "      <td>       4.000000</td>\n",
        "      <td>       2.000000</td>\n",
        "      <td>       4.000000</td>\n",
        "      <td>       1.000000</td>\n",
        "      <td>       4.000000</td>\n",
        "      <td>       0.000000</td>\n",
        "    </tr>\n",
        "    <tr>\n",
        "      <th>50%</th>\n",
        "      <td>       3.000000</td>\n",
        "      <td>       7.000000</td>\n",
        "      <td>       3.000000</td>\n",
        "      <td>       7.000000</td>\n",
        "      <td>       3.000000</td>\n",
        "      <td>       7.000000</td>\n",
        "      <td>       3.000000</td>\n",
        "      <td>       7.000000</td>\n",
        "      <td>       2.000000</td>\n",
        "      <td>       7.000000</td>\n",
        "      <td>       0.000000</td>\n",
        "    </tr>\n",
        "    <tr>\n",
        "      <th>75%</th>\n",
        "      <td>       3.000000</td>\n",
        "      <td>      10.000000</td>\n",
        "      <td>       4.000000</td>\n",
        "      <td>      10.000000</td>\n",
        "      <td>       4.000000</td>\n",
        "      <td>      10.000000</td>\n",
        "      <td>       3.000000</td>\n",
        "      <td>      10.000000</td>\n",
        "      <td>       4.000000</td>\n",
        "      <td>      10.000000</td>\n",
        "      <td>       1.000000</td>\n",
        "    </tr>\n",
        "    <tr>\n",
        "      <th>max</th>\n",
        "      <td>       4.000000</td>\n",
        "      <td>      13.000000</td>\n",
        "      <td>       4.000000</td>\n",
        "      <td>      13.000000</td>\n",
        "      <td>       4.000000</td>\n",
        "      <td>      13.000000</td>\n",
        "      <td>       4.000000</td>\n",
        "      <td>      13.000000</td>\n",
        "      <td>       4.000000</td>\n",
        "      <td>      13.000000</td>\n",
        "      <td>       9.000000</td>\n",
        "    </tr>\n",
        "  </tbody>\n",
        "</table>\n",
        "</div>"
       ],
       "metadata": {},
       "output_type": "pyout",
       "prompt_number": 218,
       "text": [
        "              Suit_C1         Rank_C1         Suit_C2         Rank_C2  \\\n",
        "count  1000000.000000  1000000.000000  1000000.000000  1000000.000000   \n",
        "mean         2.500493        6.997927        2.499894        7.006097   \n",
        "std          1.117768        3.743374        1.118568        3.743481   \n",
        "min          1.000000        1.000000        1.000000        1.000000   \n",
        "25%          2.000000        4.000000        1.000000        4.000000   \n",
        "50%          3.000000        7.000000        3.000000        7.000000   \n",
        "75%          3.000000       10.000000        4.000000       10.000000   \n",
        "max          4.000000       13.000000        4.000000       13.000000   \n",
        "\n",
        "              Suit_C3         Rank_C3         Suit_C4         Rank_C4  \\\n",
        "count  1000000.000000  1000000.000000  1000000.000000  1000000.000000   \n",
        "mean         2.500871        6.998873        2.500393        7.002298   \n",
        "std          1.118225        3.741890        1.117245        3.741270   \n",
        "min          1.000000        1.000000        1.000000        1.000000   \n",
        "25%          1.000000        4.000000        2.000000        4.000000   \n",
        "50%          3.000000        7.000000        3.000000        7.000000   \n",
        "75%          4.000000       10.000000        3.000000       10.000000   \n",
        "max          4.000000       13.000000        4.000000       13.000000   \n",
        "\n",
        "              Suit_C5         Rank_C5  Class_Poker_Hand  \n",
        "count  1000000.000000  1000000.000000    1000000.000000  \n",
        "mean         2.499451        6.989481          0.616902  \n",
        "std          1.118948        3.739894          0.773377  \n",
        "min          1.000000        1.000000          0.000000  \n",
        "25%          1.000000        4.000000          0.000000  \n",
        "50%          2.000000        7.000000          0.000000  \n",
        "75%          4.000000       10.000000          1.000000  \n",
        "max          4.000000       13.000000          9.000000  "
       ]
      }
     ],
     "prompt_number": 218
    },
    {
     "cell_type": "heading",
     "level": 5,
     "metadata": {},
     "source": [
      "Data Visualization and Exploration"
     ]
    },
    {
     "cell_type": "code",
     "collapsed": false,
     "input": [
      "# this python magics will allow plot to be embedded into the notebook\n",
      "%matplotlib inline"
     ],
     "language": "python",
     "metadata": {},
     "outputs": [],
     "prompt_number": 219
    },
    {
     "cell_type": "code",
     "collapsed": false,
     "input": [
      "import matplotlib.pyplot as plt\n",
      "import warnings\n",
      "warnings.simplefilter('ignore', DeprecationWarning)\n",
      "#yticks=[5000,1000,15000,20000,25000,30000]\n",
      "grouped_0 = grouped_by.count()\n",
      "grouped_0.plot(kind='box')\n"
     ],
     "language": "python",
     "metadata": {},
     "outputs": [
      {
       "metadata": {},
       "output_type": "pyout",
       "prompt_number": 240,
       "text": [
        "<matplotlib.axes._subplots.AxesSubplot at 0x1503b5190>"
       ]
      },
      {
       "metadata": {},
       "output_type": "display_data",
       "png": "[encoded data removed]",
       "text": [
        "<matplotlib.figure.Figure at 0x1503b5150>"
       ]
      }
     ],
     "prompt_number": 240
    },
    {
     "cell_type": "markdown",
     "metadata": {},
     "source": [
      "    This graph above is a box plot of the various attributes.  As you can see the data is uniform across the board for how frequently certain cards come up.  This makes sense logically, because there is the same number of eac card in the deck, so if you deal enough hands, the distribution should fall very closely to the predicted amount.  Although the format of this graph isn't super expressive, it does allow you to see how uniformly the data is distributed which is important, so I included it."
     ]
    },
    {
     "cell_type": "code",
     "collapsed": false,
     "input": [
      "\n",
      "#     This second plot shows the percentage of the sample that each class of poker hand had.  \n",
      "# The y-axis is the class of the poker hand.\n",
      "grouped = grouped_by.Class_Poker_Hand.count() / 1000000\n",
      "grouped.plot(kind='barh')\n"
     ],
     "language": "python",
     "metadata": {},
     "outputs": [
      {
       "metadata": {},
       "output_type": "pyout",
       "prompt_number": 221,
       "text": [
        "<matplotlib.axes._subplots.AxesSubplot at 0x271b42590>"
       ]
      },
      {
       "metadata": {},
       "output_type": "display_data",
       "png": "[encoded data removed]",
       "text": [
        "<matplotlib.figure.Figure at 0x271b2fd50>"
       ]
      }
     ],
     "prompt_number": 221
    },
    {
     "cell_type": "markdown",
     "metadata": {},
     "source": [
      "    This is a bar graph of the probability of getting a particular poker hand.  On the x-axis you can see the probabilities ranging from 0 to 1.  The y-axis shows the various poker hand ranks.  As you can see, the odds of getting the better hands is much slimmer than the odds of getting the worse hands.  "
     ]
    },
    {
     "cell_type": "code",
     "collapsed": false,
     "input": [
      "\n",
      "plt.scatter(df.Rank_C1, df.Class_Poker_Hand, s=60, c='r', label='red = Rank_C1')\n",
      "plt.legend()\n"
     ],
     "language": "python",
     "metadata": {},
     "outputs": [
      {
       "metadata": {},
       "output_type": "pyout",
       "prompt_number": 195,
       "text": [
        "<matplotlib.legend.Legend at 0x237be7090>"
       ]
      },
      {
       "metadata": {},
       "output_type": "display_data",
       "png": "[encoded data removed]",
       "text": [
        "<matplotlib.figure.Figure at 0x237be7890>"
       ]
      }
     ],
     "prompt_number": 195
    },
    {
     "cell_type": "markdown",
     "metadata": {},
     "source": [
      "    This graph shows a plot of the first card's rank vs. the hand's rank.  You would think that there might be a slightly positive correlation between having a low first card and having a low hand rank.  As you can see from above this model holds slightly true.  As the card's rank increases, so does the overall hand.  "
     ]
    },
    {
     "cell_type": "code",
     "collapsed": false,
     "input": [
      "plt.scatter(df.Rank_C2, df.Class_Poker_Hand, s=60, c='g', label='green = Rank_C2')\n",
      "plt.legend()\n"
     ],
     "language": "python",
     "metadata": {},
     "outputs": [
      {
       "metadata": {},
       "output_type": "pyout",
       "prompt_number": 197,
       "text": [
        "<matplotlib.legend.Legend at 0x237e65150>"
       ]
      },
      {
       "metadata": {},
       "output_type": "display_data",
       "png": "[encoded data removed]",
       "text": [
        "<matplotlib.figure.Figure at 0x237e65b50>"
       ]
      }
     ],
     "prompt_number": 197
    },
    {
     "cell_type": "markdown",
     "metadata": {},
     "source": [
      "    This graph shows a plot of the second card's rank vs. the overall hand rank.  Since this is just the second card, we still expect there to be a small correlation between choosing a low card, and the hand having a poor rank.  However, this distribution does not seem to have a linear curve.  "
     ]
    },
    {
     "cell_type": "code",
     "collapsed": false,
     "input": [
      "plt.scatter(df.Rank_C3, df.Class_Poker_Hand, s=60, c='b', label='blue = Rank_C3')\n",
      "plt.legend()\n"
     ],
     "language": "python",
     "metadata": {},
     "outputs": [
      {
       "metadata": {},
       "output_type": "pyout",
       "prompt_number": 198,
       "text": [
        "<matplotlib.legend.Legend at 0x237fc53d0>"
       ]
      },
      {
       "metadata": {},
       "output_type": "display_data",
       "png": "[encoded data removed]",
       "text": [
        "<matplotlib.figure.Figure at 0x23801fc10>"
       ]
      }
     ],
     "prompt_number": 198
    },
    {
     "cell_type": "markdown",
     "metadata": {},
     "source": [
      "    This graph shows a plot of the third card's rank vs. the hand's rank.  Again, you would think that there might be a slightly positive correlation between having a low third card and having a low hand rank.  As you can see from above this model holds slightly true.  As the card's rank increases, so does the overall hand.  "
     ]
    },
    {
     "cell_type": "code",
     "collapsed": false,
     "input": [
      "plt.scatter(df.Rank_C4, df.Class_Poker_Hand, s=60, c='y', label='yellow = Rank_C4')\n",
      "plt.legend()\n"
     ],
     "language": "python",
     "metadata": {},
     "outputs": [
      {
       "metadata": {},
       "output_type": "pyout",
       "prompt_number": 194,
       "text": [
        "<matplotlib.legend.Legend at 0x2378d3590>"
       ]
      },
      {
       "metadata": {},
       "output_type": "display_data",
       "png": "[encoded data removed]",
       "text": [
        "<matplotlib.figure.Figure at 0x237911e10>"
       ]
      }
     ],
     "prompt_number": 194
    },
    {
     "cell_type": "markdown",
     "metadata": {},
     "source": [
      "    This graph shows a plot of the fourth card's rank vs. the hand's rank.  We would still expect a small correlation between the fourth card and the overall hand rank.  Now that we have already chosen a few cards we would also expect to see a change in the probability of drawing each card.  For example, if we have already chosen 3 kings, then the odds of us choosing a fourth king are much slimmer than they were in the beginning.    "
     ]
    },
    {
     "cell_type": "code",
     "collapsed": false,
     "input": [
      "plt.scatter(df.Rank_C5, df.Class_Poker_Hand, s=60, c='r', label='red = Rank_C5')\n",
      "plt.legend()\n"
     ],
     "language": "python",
     "metadata": {},
     "outputs": [
      {
       "metadata": {},
       "output_type": "pyout",
       "prompt_number": 199,
       "text": [
        "<matplotlib.legend.Legend at 0x2381d8410>"
       ]
      },
      {
       "metadata": {},
       "output_type": "display_data",
       "png": "[encoded data removed]",
       "text": [
        "<matplotlib.figure.Figure at 0x237fc51d0>"
       ]
      }
     ],
     "prompt_number": 199
    },
    {
     "cell_type": "markdown",
     "metadata": {},
     "source": [
      "    This graph shows a plot of the fifth card's rank vs. the hand's rank.  For the last time we expect a small correlation between the fifth card and the overall hand rank.  Similarly to the fourth card, because we have already chosen a few cards we would also expect to see a change in the probability of drawing each card.  For example, if we have already chosen 3 kings and a Queen, then the odds of us choosing another Queen to get the Full House is much slimmer than they were in the beginning.    "
     ]
    },
    {
     "cell_type": "heading",
     "level": 5,
     "metadata": {},
     "source": [
      "Realtionships Between Attributes"
     ]
    },
    {
     "cell_type": "markdown",
     "metadata": {},
     "source": [
      "    The relationships between the various attributes for this data set are interesting because they often relate to the same card.  For example the first and second attribute relate to the same card (Suit and rank), and the third and fourth relate to the second card (suit and rank), etc., etc.  The eleventh attribute is what brings it all together.  The rank of the hand is dependent on all of the other attributes.  This makes it hard to perform in depth statistical analysis.  For example, in order to determine the classification of a hand you need to examine all of the other attributes (i.e. all the cards in the hand).  The probability of getting high cards is correlated to the probability of getting a high hand to an extent.  Getting a strong hand in poker isn't just about having high cards, which again makes the analysis more complicated.  Doing analysis on one of the cards vs. the hand rank is relatively straight forward as I showed above, but to perform analysis on numerous cards at once vs. the hand would result in adding dimensions which as we discussed in class is harder for humans to visualize.  "
     ]
    },
    {
     "cell_type": "heading",
     "level": 5,
     "metadata": {},
     "source": [
      "Other Additional Features"
     ]
    },
    {
     "cell_type": "markdown",
     "metadata": {},
     "source": [
      "    There are some other additional features that could be added to the data in order to make it more comprehensive.  For example, there needs to be some sort of system set up to account for Ace being high or Low as I mentioned above.  This is mainly in regards to concept of straights, but this speaks to a bigger problem with how the data is constructed.  Currently there is no way to account for a range of levels within each class of hand.  For example, there are varying ranks of straights, varying ranks of four-of-a-kinds, three-of-a-kinds, etc.  Without differentiating the levels within a class there is no way to compare hands beyond the 9 classes already set up."
     ]
    },
    {
     "cell_type": "heading",
     "level": 5,
     "metadata": {},
     "source": [
      "Additional Analysis"
     ]
    },
    {
     "cell_type": "markdown",
     "metadata": {},
     "source": [
      "    To take this idea one step further, we could design a model to provide this different structure.  One option would be to just add more classes for the increased number of hand ranks, but then the data becomes very complicated very quickly.  In order to fix the problem of Ace being High and/or Low you could add a record for every case where there is an Ace.  The record would be the exact same except for one would denote an AceLow and the other would denote an AceHigh.  In the case of multiple Aces in one hand you could just create a case with all of them AceLow and one with all of them AceHigh.  "
     ]
    }
   ],
   "metadata": {}
  }
 ]
}